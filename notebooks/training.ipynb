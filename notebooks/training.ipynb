{
 "cells": [
  {
   "cell_type": "code",
   "execution_count": 1,
   "metadata": {},
   "outputs": [
    {
     "name": "stderr",
     "output_type": "stream",
     "text": [
      "2023-12-03 18:11:38.555580: I tensorflow/core/platform/cpu_feature_guard.cc:182] This TensorFlow binary is optimized to use available CPU instructions in performance-critical operations.\n",
      "To enable the following instructions: SSE4.1 SSE4.2 AVX AVX2 FMA, in other operations, rebuild TensorFlow with the appropriate compiler flags.\n"
     ]
    }
   ],
   "source": [
    "import numpy as np \n",
    "import matplotlib.pyplot as plt\n",
    "import os\n",
    "from PIL import Image\n",
    "\n",
    "# Stop Warnings\n",
    "import warnings\n",
    "warnings.simplefilter(action='ignore', category=FutureWarning)\n",
    "warnings.simplefilter(action='ignore', category=Warning)\n",
    "\n",
    "# Keras Libraries\n",
    "import keras\n",
    "from keras.models import Sequential\n",
    "from keras.layers import Conv2D, BatchNormalization, MaxPool2D, Flatten, Dense, Dropout\n",
    "from keras.preprocessing.image import ImageDataGenerator\n",
    "from keras.utils import load_img\n",
    "from sklearn.metrics import classification_report, confusion_matrix\n",
    "from keras.callbacks import ReduceLROnPlateau"
   ]
  },
  {
   "cell_type": "markdown",
   "metadata": {},
   "source": [
    "## Load processed data"
   ]
  },
  {
   "cell_type": "code",
   "execution_count": 2,
   "metadata": {},
   "outputs": [],
   "source": [
    "x_train = np.load('../data/processed/x_train.npy')\n",
    "y_train = np.load('../data/processed/y_train.npy')\n",
    "\n",
    "x_val = np.load('../data/processed/x_val.npy')\n",
    "y_val = np.load('../data/processed/y_val.npy')\n",
    "\n",
    "x_test = np.load('../data/processed/x_test.npy')\n",
    "y_test = np.load('../data/processed/y_test.npy')"
   ]
  },
  {
   "cell_type": "markdown",
   "metadata": {},
   "source": [
    "## Functions for later"
   ]
  },
  {
   "cell_type": "code",
   "execution_count": 3,
   "metadata": {},
   "outputs": [],
   "source": [
    "datagen = ImageDataGenerator(\n",
    "        featurewise_center=False,  \n",
    "        samplewise_center=False,  \n",
    "        featurewise_std_normalization=False,  \n",
    "        samplewise_std_normalization=False,  \n",
    "        zca_whitening=False,  \n",
    "        rotation_range = 30,  \n",
    "        zoom_range = 0.2,  \n",
    "        width_shift_range=0.1,  \n",
    "        height_shift_range=0.1,  \n",
    "        horizontal_flip = True, \n",
    "        vertical_flip=False)  "
   ]
  },
  {
   "cell_type": "markdown",
   "metadata": {},
   "source": [
    "## Train model"
   ]
  },
  {
   "cell_type": "markdown",
   "metadata": {},
   "source": [
    "Here, I am building a Convolutional Neural Network for image classification.\n",
    "\n",
    "1. Model Architecture\n",
    "   - The model follows a convolutional neural network (CNN) structure with varying filter sizes and max pooling for feature extraction.\n",
    "\n",
    "2. Regularization\n",
    "   - Dropout layers are strategically placed to prevent overfitting during training.\n",
    "\n",
    "3. Batch Normalization\n",
    "   - Batch normalization is applied after each convolutional layer, enhancing training stability and speed.\n",
    "\n",
    "4. Compilation\n",
    "   - The model is compiled using the RMSprop optimizer and binary crossentropy loss for binary classification. \n",
    "   - Accuracy is chosen as the evaluation metric.\n"
   ]
  },
  {
   "cell_type": "code",
   "execution_count": 4,
   "metadata": {},
   "outputs": [
    {
     "name": "stderr",
     "output_type": "stream",
     "text": [
      "2023-12-03 18:11:40.772279: I tensorflow/core/common_runtime/process_util.cc:146] Creating new thread pool with default inter op setting: 2. Tune using inter_op_parallelism_threads for best performance.\n"
     ]
    },
    {
     "name": "stdout",
     "output_type": "stream",
     "text": [
      "Model: \"sequential\"\n",
      "_________________________________________________________________\n",
      " Layer (type)                Output Shape              Param #   \n",
      "=================================================================\n",
      " conv2d (Conv2D)             (None, 150, 150, 32)      320       \n",
      "                                                                 \n",
      " batch_normalization (BatchN  (None, 150, 150, 32)     128       \n",
      " ormalization)                                                   \n",
      "                                                                 \n",
      " max_pooling2d (MaxPooling2D  (None, 75, 75, 32)       0         \n",
      " )                                                               \n",
      "                                                                 \n",
      " conv2d_1 (Conv2D)           (None, 75, 75, 64)        18496     \n",
      "                                                                 \n",
      " dropout (Dropout)           (None, 75, 75, 64)        0         \n",
      "                                                                 \n",
      " batch_normalization_1 (Batc  (None, 75, 75, 64)       256       \n",
      " hNormalization)                                                 \n",
      "                                                                 \n",
      " max_pooling2d_1 (MaxPooling  (None, 38, 38, 64)       0         \n",
      " 2D)                                                             \n",
      "                                                                 \n",
      " conv2d_2 (Conv2D)           (None, 38, 38, 64)        36928     \n",
      "                                                                 \n",
      " batch_normalization_2 (Batc  (None, 38, 38, 64)       256       \n",
      " hNormalization)                                                 \n",
      "                                                                 \n",
      " max_pooling2d_2 (MaxPooling  (None, 19, 19, 64)       0         \n",
      " 2D)                                                             \n",
      "                                                                 \n",
      " conv2d_3 (Conv2D)           (None, 19, 19, 128)       73856     \n",
      "                                                                 \n",
      " dropout_1 (Dropout)         (None, 19, 19, 128)       0         \n",
      "                                                                 \n",
      " batch_normalization_3 (Batc  (None, 19, 19, 128)      512       \n",
      " hNormalization)                                                 \n",
      "                                                                 \n",
      " max_pooling2d_3 (MaxPooling  (None, 10, 10, 128)      0         \n",
      " 2D)                                                             \n",
      "                                                                 \n",
      " conv2d_4 (Conv2D)           (None, 10, 10, 256)       295168    \n",
      "                                                                 \n",
      " dropout_2 (Dropout)         (None, 10, 10, 256)       0         \n",
      "                                                                 \n",
      " batch_normalization_4 (Batc  (None, 10, 10, 256)      1024      \n",
      " hNormalization)                                                 \n",
      "                                                                 \n",
      " max_pooling2d_4 (MaxPooling  (None, 5, 5, 256)        0         \n",
      " 2D)                                                             \n",
      "                                                                 \n",
      " flatten (Flatten)           (None, 6400)              0         \n",
      "                                                                 \n",
      " dense (Dense)               (None, 128)               819328    \n",
      "                                                                 \n",
      " dropout_3 (Dropout)         (None, 128)               0         \n",
      "                                                                 \n",
      " dense_1 (Dense)             (None, 1)                 129       \n",
      "                                                                 \n",
      "=================================================================\n",
      "Total params: 1,246,401\n",
      "Trainable params: 1,245,313\n",
      "Non-trainable params: 1,088\n",
      "_________________________________________________________________\n"
     ]
    }
   ],
   "source": [
    "model = Sequential()\n",
    "\n",
    "model.add(Conv2D(32 , (3,3) , strides = 1 , padding = 'same' , activation = 'relu' , input_shape = (150,150,1)))\n",
    "model.add(BatchNormalization())\n",
    "model.add(MaxPool2D((2,2) , strides = 2 , padding = 'same'))\n",
    "\n",
    "model.add(Conv2D(64 , (3,3) , strides = 1 , padding = 'same' , activation = 'relu'))\n",
    "model.add(Dropout(0.1))\n",
    "model.add(BatchNormalization())\n",
    "model.add(MaxPool2D((2,2) , strides = 2 , padding = 'same'))\n",
    "\n",
    "model.add(Conv2D(64 , (3,3) , strides = 1 , padding = 'same' , activation = 'relu'))\n",
    "model.add(BatchNormalization())\n",
    "model.add(MaxPool2D((2,2) , strides = 2 , padding = 'same'))\n",
    "\n",
    "model.add(Conv2D(128 , (3,3) , strides = 1 , padding = 'same' , activation = 'relu'))\n",
    "model.add(Dropout(0.2))\n",
    "model.add(BatchNormalization())\n",
    "model.add(MaxPool2D((2,2) , strides = 2 , padding = 'same'))\n",
    "\n",
    "model.add(Conv2D(256 , (3,3) , strides = 1 , padding = 'same' , activation = 'relu'))\n",
    "model.add(Dropout(0.2))\n",
    "model.add(BatchNormalization())\n",
    "model.add(MaxPool2D((2,2) , strides = 2 , padding = 'same'))\n",
    "\n",
    "model.add(Flatten())\n",
    "model.add(Dense(units = 128 , activation = 'relu'))\n",
    "model.add(Dropout(0.2))\n",
    "model.add(Dense(units = 1 , activation = 'sigmoid'))\n",
    "\n",
    "model.compile(optimizer = \"rmsprop\" , loss = 'binary_crossentropy' , metrics = ['accuracy'])\n",
    "model.summary()"
   ]
  },
  {
   "cell_type": "code",
   "execution_count": 5,
   "metadata": {},
   "outputs": [],
   "source": [
    "learning_rate_reduction = ReduceLROnPlateau(monitor='val_accuracy', patience = 2, verbose=1,factor=0.3, min_lr=0.000001)"
   ]
  },
  {
   "cell_type": "code",
   "execution_count": 7,
   "metadata": {},
   "outputs": [
    {
     "name": "stdout",
     "output_type": "stream",
     "text": [
      "Epoch 1/12\n"
     ]
    },
    {
     "name": "stderr",
     "output_type": "stream",
     "text": [
      "2023-12-03 18:16:31.805381: I tensorflow/core/common_runtime/executor.cc:1197] [/device:CPU:0] (DEBUG INFO) Executor start aborting (this does not indicate an error and you can ignore this message): INVALID_ARGUMENT: You must feed a value for placeholder tensor 'Placeholder/_0' with dtype int32\n",
      "\t [[{{node Placeholder/_0}}]]\n"
     ]
    },
    {
     "name": "stdout",
     "output_type": "stream",
     "text": [
      "163/163 [==============================] - 144s 879ms/step - loss: 0.2228 - accuracy: 0.9164 - val_loss: 2.6406 - val_accuracy: 0.5000 - lr: 0.0010\n",
      "Epoch 2/12\n",
      "163/163 [==============================] - 132s 812ms/step - loss: 0.1944 - accuracy: 0.9270 - val_loss: 0.7462 - val_accuracy: 0.5625 - lr: 0.0010\n",
      "Epoch 3/12\n",
      "163/163 [==============================] - 140s 861ms/step - loss: 0.1776 - accuracy: 0.9362 - val_loss: 0.7475 - val_accuracy: 0.6875 - lr: 0.0010\n",
      "Epoch 4/12\n",
      "163/163 [==============================] - 133s 815ms/step - loss: 0.1660 - accuracy: 0.9408 - val_loss: 2.4981 - val_accuracy: 0.5000 - lr: 0.0010\n",
      "Epoch 5/12\n",
      "163/163 [==============================] - ETA: 0s - loss: 0.1585 - accuracy: 0.9383\n",
      "Epoch 5: ReduceLROnPlateau reducing learning rate to 0.0003000000142492354.\n",
      "163/163 [==============================] - 136s 837ms/step - loss: 0.1585 - accuracy: 0.9383 - val_loss: 2.2450 - val_accuracy: 0.5000 - lr: 0.0010\n",
      "Epoch 6/12\n",
      "163/163 [==============================] - 134s 820ms/step - loss: 0.1222 - accuracy: 0.9580 - val_loss: 1.2100 - val_accuracy: 0.7500 - lr: 3.0000e-04\n",
      "Epoch 7/12\n",
      "163/163 [==============================] - 138s 844ms/step - loss: 0.1168 - accuracy: 0.9588 - val_loss: 1.7225 - val_accuracy: 0.7500 - lr: 3.0000e-04\n",
      "Epoch 8/12\n",
      "163/163 [==============================] - ETA: 0s - loss: 0.1058 - accuracy: 0.9630\n",
      "Epoch 8: ReduceLROnPlateau reducing learning rate to 9.000000427477062e-05.\n",
      "163/163 [==============================] - 132s 809ms/step - loss: 0.1058 - accuracy: 0.9630 - val_loss: 1.2259 - val_accuracy: 0.5625 - lr: 3.0000e-04\n",
      "Epoch 9/12\n",
      "163/163 [==============================] - 136s 833ms/step - loss: 0.1060 - accuracy: 0.9676 - val_loss: 8.9614 - val_accuracy: 0.5000 - lr: 9.0000e-05\n",
      "Epoch 10/12\n",
      "163/163 [==============================] - 133s 815ms/step - loss: 0.0981 - accuracy: 0.9653 - val_loss: 0.1302 - val_accuracy: 1.0000 - lr: 9.0000e-05\n",
      "Epoch 11/12\n",
      "163/163 [==============================] - 139s 850ms/step - loss: 0.0991 - accuracy: 0.9689 - val_loss: 0.4022 - val_accuracy: 0.8750 - lr: 9.0000e-05\n",
      "Epoch 12/12\n",
      "163/163 [==============================] - ETA: 0s - loss: 0.0961 - accuracy: 0.9689\n",
      "Epoch 12: ReduceLROnPlateau reducing learning rate to 2.700000040931627e-05.\n",
      "163/163 [==============================] - 132s 807ms/step - loss: 0.0961 - accuracy: 0.9689 - val_loss: 5.5656 - val_accuracy: 0.5000 - lr: 9.0000e-05\n"
     ]
    }
   ],
   "source": [
    "history = model.fit(\n",
    "    datagen.flow(x_train,y_train, batch_size = 32),\n",
    "    epochs = 12, \n",
    "    validation_data = datagen.flow(x_val, y_val),\n",
    "    callbacks = [learning_rate_reduction]\n",
    ")"
   ]
  },
  {
   "cell_type": "code",
   "execution_count": 12,
   "metadata": {},
   "outputs": [
    {
     "data": {
      "text/plain": [
       "Text(0.5, 1.0, 'Accuracy Evolution')"
      ]
     },
     "execution_count": 12,
     "metadata": {},
     "output_type": "execute_result"
    },
    {
     "data": {
      "image/png": "[encoded data removed]",
      "text/plain": [
       "<Figure size 1200x800 with 2 Axes>"
      ]
     },
     "metadata": {},
     "output_type": "display_data"
    }
   ],
   "source": [
    "plt.figure(figsize=(12, 8))\n",
    "\n",
    "plt.subplot(2, 2, 1)\n",
    "plt.plot(history.history['loss'], label='Loss')\n",
    "plt.plot(history.history['val_loss'], label='Val_Loss')\n",
    "plt.legend()\n",
    "plt.title('Loss Evolution')\n",
    "\n",
    "plt.subplot(2, 2, 2)\n",
    "plt.plot(history.history['accuracy'], label='Accuracy')\n",
    "plt.plot(history.history['val_accuracy'], label='Val_Accuracy')\n",
    "plt.legend()\n",
    "plt.title('Accuracy Evolution')\n",
    "\n",
    "plt.show()"
   ]
  },
  {
   "cell_type": "code",
   "execution_count": 11,
   "metadata": {},
   "outputs": [
    {
     "name": "stdout",
     "output_type": "stream",
     "text": [
      "20/20 [==============================] - 30s 1s/step - loss: 0.5571 - accuracy: 0.8590\n",
      "Loss of the model is -  0.5571215152740479\n",
      "Accuracy of the model is -  85.89743375778198 %\n"
     ]
    }
   ],
   "source": [
    "loss, accuracy = model.evaluate(x_test,y_test)\n",
    "\n",
    "print(\"Loss of the model is - \", loss)\n",
    "print(\"Accuracy of the model is - \", accuracy * 100, \"%\")"
   ]
  },
  {
   "cell_type": "code",
   "execution_count": 13,
   "metadata": {},
   "outputs": [],
   "source": [
    "model.save(\"../data/models/model.h5\")"
   ]
  }
 ],
 "metadata": {
  "kernelspec": {
   "display_name": ".venv",
   "language": "python",
   "name": "python3"
  },
  "language_info": {
   "codemirror_mode": {
    "name": "ipython",
    "version": 3
   },
   "file_extension": ".py",
   "mimetype": "text/x-python",
   "name": "python",
   "nbconvert_exporter": "python",
   "pygments_lexer": "ipython3",
   "version": "3.9.18"
  }
 },
 "nbformat": 4,
 "nbformat_minor": 2
}
